{
 "cells": [
  {
   "cell_type": "code",
   "execution_count": 1,
   "metadata": {},
   "outputs": [
    {
     "name": "stderr",
     "output_type": "stream",
     "text": [
      "C:\\Users\\karth\\anaconda3\\lib\\site-packages\\gensim\\similarities\\__init__.py:15: UserWarning: The gensim.similarities.levenshtein submodule is disabled, because the optional Levenshtein package <https://pypi.org/project/python-Levenshtein/> is unavailable. Install Levenhstein (e.g. `pip install python-Levenshtein`) to suppress this warning.\n",
      "  warnings.warn(msg)\n"
     ]
    }
   ],
   "source": [
    "import pandas as pd\n",
    "import numpy as np\n",
    "import nltk\n",
    "import gensim\n",
    "import gensim.downloader as gensim_api\n",
    "\n",
    "import re\n",
    "\n",
    "## for plotting\n",
    "import matplotlib.pyplot as plt\n",
    "import seaborn as sns"
   ]
  },
  {
   "cell_type": "code",
   "execution_count": 2,
   "metadata": {},
   "outputs": [
    {
     "data": {
      "text/html": [
       "<div>\n",
       "<style scoped>\n",
       "    .dataframe tbody tr th:only-of-type {\n",
       "        vertical-align: middle;\n",
       "    }\n",
       "\n",
       "    .dataframe tbody tr th {\n",
       "        vertical-align: top;\n",
       "    }\n",
       "\n",
       "    .dataframe thead th {\n",
       "        text-align: right;\n",
       "    }\n",
       "</style>\n",
       "<table border=\"1\" class=\"dataframe\">\n",
       "  <thead>\n",
       "    <tr style=\"text-align: right;\">\n",
       "      <th></th>\n",
       "      <th>Class Index</th>\n",
       "      <th>Title</th>\n",
       "      <th>Description</th>\n",
       "    </tr>\n",
       "  </thead>\n",
       "  <tbody>\n",
       "    <tr>\n",
       "      <th>0</th>\n",
       "      <td>3</td>\n",
       "      <td>Wall St. Bears Claw Back Into the Black (Reuters)</td>\n",
       "      <td>Reuters - Short-sellers, Wall Street's dwindli...</td>\n",
       "    </tr>\n",
       "    <tr>\n",
       "      <th>1</th>\n",
       "      <td>3</td>\n",
       "      <td>Carlyle Looks Toward Commercial Aerospace (Reu...</td>\n",
       "      <td>Reuters - Private investment firm Carlyle Grou...</td>\n",
       "    </tr>\n",
       "    <tr>\n",
       "      <th>2</th>\n",
       "      <td>3</td>\n",
       "      <td>Oil and Economy Cloud Stocks' Outlook (Reuters)</td>\n",
       "      <td>Reuters - Soaring crude prices plus worries\\ab...</td>\n",
       "    </tr>\n",
       "    <tr>\n",
       "      <th>3</th>\n",
       "      <td>3</td>\n",
       "      <td>Iraq Halts Oil Exports from Main Southern Pipe...</td>\n",
       "      <td>Reuters - Authorities have halted oil export\\f...</td>\n",
       "    </tr>\n",
       "    <tr>\n",
       "      <th>4</th>\n",
       "      <td>3</td>\n",
       "      <td>Oil prices soar to all-time record, posing new...</td>\n",
       "      <td>AFP - Tearaway world oil prices, toppling reco...</td>\n",
       "    </tr>\n",
       "    <tr>\n",
       "      <th>...</th>\n",
       "      <td>...</td>\n",
       "      <td>...</td>\n",
       "      <td>...</td>\n",
       "    </tr>\n",
       "    <tr>\n",
       "      <th>7595</th>\n",
       "      <td>1</td>\n",
       "      <td>Around the world</td>\n",
       "      <td>Ukrainian presidential candidate Viktor Yushch...</td>\n",
       "    </tr>\n",
       "    <tr>\n",
       "      <th>7596</th>\n",
       "      <td>2</td>\n",
       "      <td>Void is filled with Clement</td>\n",
       "      <td>With the supply of attractive pitching options...</td>\n",
       "    </tr>\n",
       "    <tr>\n",
       "      <th>7597</th>\n",
       "      <td>2</td>\n",
       "      <td>Martinez leaves bitter</td>\n",
       "      <td>Like Roger Clemens did almost exactly eight ye...</td>\n",
       "    </tr>\n",
       "    <tr>\n",
       "      <th>7598</th>\n",
       "      <td>3</td>\n",
       "      <td>5 of arthritis patients in Singapore take Bext...</td>\n",
       "      <td>SINGAPORE : Doctors in the United States have ...</td>\n",
       "    </tr>\n",
       "    <tr>\n",
       "      <th>7599</th>\n",
       "      <td>3</td>\n",
       "      <td>EBay gets into rentals</td>\n",
       "      <td>EBay plans to buy the apartment and home renta...</td>\n",
       "    </tr>\n",
       "  </tbody>\n",
       "</table>\n",
       "<p>127600 rows × 3 columns</p>\n",
       "</div>"
      ],
      "text/plain": [
       "      Class Index                                              Title  \\\n",
       "0               3  Wall St. Bears Claw Back Into the Black (Reuters)   \n",
       "1               3  Carlyle Looks Toward Commercial Aerospace (Reu...   \n",
       "2               3    Oil and Economy Cloud Stocks' Outlook (Reuters)   \n",
       "3               3  Iraq Halts Oil Exports from Main Southern Pipe...   \n",
       "4               3  Oil prices soar to all-time record, posing new...   \n",
       "...           ...                                                ...   \n",
       "7595            1                                   Around the world   \n",
       "7596            2                        Void is filled with Clement   \n",
       "7597            2                             Martinez leaves bitter   \n",
       "7598            3  5 of arthritis patients in Singapore take Bext...   \n",
       "7599            3                             EBay gets into rentals   \n",
       "\n",
       "                                            Description  \n",
       "0     Reuters - Short-sellers, Wall Street's dwindli...  \n",
       "1     Reuters - Private investment firm Carlyle Grou...  \n",
       "2     Reuters - Soaring crude prices plus worries\\ab...  \n",
       "3     Reuters - Authorities have halted oil export\\f...  \n",
       "4     AFP - Tearaway world oil prices, toppling reco...  \n",
       "...                                                 ...  \n",
       "7595  Ukrainian presidential candidate Viktor Yushch...  \n",
       "7596  With the supply of attractive pitching options...  \n",
       "7597  Like Roger Clemens did almost exactly eight ye...  \n",
       "7598  SINGAPORE : Doctors in the United States have ...  \n",
       "7599  EBay plans to buy the apartment and home renta...  \n",
       "\n",
       "[127600 rows x 3 columns]"
      ]
     },
     "execution_count": 2,
     "metadata": {},
     "output_type": "execute_result"
    }
   ],
   "source": [
    "#loading the train and the test data\n",
    "train = pd.read_csv(\"C:/Users/karth/Desktop/Dissertation/Data/AG_news_train.csv\")\n",
    "test = pd.read_csv(\"C:/Users/karth/Desktop/Dissertation/Data/AG_news_test.csv\")\n",
    "frames = [train,test]\n",
    "data = pd.concat(frames)\n",
    "data"
   ]
  },
  {
   "cell_type": "code",
   "execution_count": 3,
   "metadata": {},
   "outputs": [
    {
     "data": {
      "text/html": [
       "<div>\n",
       "<style scoped>\n",
       "    .dataframe tbody tr th:only-of-type {\n",
       "        vertical-align: middle;\n",
       "    }\n",
       "\n",
       "    .dataframe tbody tr th {\n",
       "        vertical-align: top;\n",
       "    }\n",
       "\n",
       "    .dataframe thead th {\n",
       "        text-align: right;\n",
       "    }\n",
       "</style>\n",
       "<table border=\"1\" class=\"dataframe\">\n",
       "  <thead>\n",
       "    <tr style=\"text-align: right;\">\n",
       "      <th></th>\n",
       "      <th>Class Index</th>\n",
       "      <th>Title</th>\n",
       "      <th>Description</th>\n",
       "      <th>Class</th>\n",
       "    </tr>\n",
       "  </thead>\n",
       "  <tbody>\n",
       "    <tr>\n",
       "      <th>0</th>\n",
       "      <td>3</td>\n",
       "      <td>Wall St. Bears Claw Back Into the Black (Reuters)</td>\n",
       "      <td>Reuters - Short-sellers, Wall Street's dwindli...</td>\n",
       "      <td>Business</td>\n",
       "    </tr>\n",
       "    <tr>\n",
       "      <th>1</th>\n",
       "      <td>3</td>\n",
       "      <td>Carlyle Looks Toward Commercial Aerospace (Reu...</td>\n",
       "      <td>Reuters - Private investment firm Carlyle Grou...</td>\n",
       "      <td>Business</td>\n",
       "    </tr>\n",
       "    <tr>\n",
       "      <th>2</th>\n",
       "      <td>3</td>\n",
       "      <td>Oil and Economy Cloud Stocks' Outlook (Reuters)</td>\n",
       "      <td>Reuters - Soaring crude prices plus worries\\ab...</td>\n",
       "      <td>Business</td>\n",
       "    </tr>\n",
       "    <tr>\n",
       "      <th>3</th>\n",
       "      <td>3</td>\n",
       "      <td>Iraq Halts Oil Exports from Main Southern Pipe...</td>\n",
       "      <td>Reuters - Authorities have halted oil export\\f...</td>\n",
       "      <td>Business</td>\n",
       "    </tr>\n",
       "    <tr>\n",
       "      <th>4</th>\n",
       "      <td>3</td>\n",
       "      <td>Oil prices soar to all-time record, posing new...</td>\n",
       "      <td>AFP - Tearaway world oil prices, toppling reco...</td>\n",
       "      <td>Business</td>\n",
       "    </tr>\n",
       "    <tr>\n",
       "      <th>...</th>\n",
       "      <td>...</td>\n",
       "      <td>...</td>\n",
       "      <td>...</td>\n",
       "      <td>...</td>\n",
       "    </tr>\n",
       "    <tr>\n",
       "      <th>7595</th>\n",
       "      <td>1</td>\n",
       "      <td>Around the world</td>\n",
       "      <td>Ukrainian presidential candidate Viktor Yushch...</td>\n",
       "      <td>World</td>\n",
       "    </tr>\n",
       "    <tr>\n",
       "      <th>7596</th>\n",
       "      <td>2</td>\n",
       "      <td>Void is filled with Clement</td>\n",
       "      <td>With the supply of attractive pitching options...</td>\n",
       "      <td>Sports</td>\n",
       "    </tr>\n",
       "    <tr>\n",
       "      <th>7597</th>\n",
       "      <td>2</td>\n",
       "      <td>Martinez leaves bitter</td>\n",
       "      <td>Like Roger Clemens did almost exactly eight ye...</td>\n",
       "      <td>Sports</td>\n",
       "    </tr>\n",
       "    <tr>\n",
       "      <th>7598</th>\n",
       "      <td>3</td>\n",
       "      <td>5 of arthritis patients in Singapore take Bext...</td>\n",
       "      <td>SINGAPORE : Doctors in the United States have ...</td>\n",
       "      <td>Business</td>\n",
       "    </tr>\n",
       "    <tr>\n",
       "      <th>7599</th>\n",
       "      <td>3</td>\n",
       "      <td>EBay gets into rentals</td>\n",
       "      <td>EBay plans to buy the apartment and home renta...</td>\n",
       "      <td>Business</td>\n",
       "    </tr>\n",
       "  </tbody>\n",
       "</table>\n",
       "<p>127600 rows × 4 columns</p>\n",
       "</div>"
      ],
      "text/plain": [
       "     Class Index                                              Title  \\\n",
       "0              3  Wall St. Bears Claw Back Into the Black (Reuters)   \n",
       "1              3  Carlyle Looks Toward Commercial Aerospace (Reu...   \n",
       "2              3    Oil and Economy Cloud Stocks' Outlook (Reuters)   \n",
       "3              3  Iraq Halts Oil Exports from Main Southern Pipe...   \n",
       "4              3  Oil prices soar to all-time record, posing new...   \n",
       "...          ...                                                ...   \n",
       "7595           1                                   Around the world   \n",
       "7596           2                        Void is filled with Clement   \n",
       "7597           2                             Martinez leaves bitter   \n",
       "7598           3  5 of arthritis patients in Singapore take Bext...   \n",
       "7599           3                             EBay gets into rentals   \n",
       "\n",
       "                                            Description     Class  \n",
       "0     Reuters - Short-sellers, Wall Street's dwindli...  Business  \n",
       "1     Reuters - Private investment firm Carlyle Grou...  Business  \n",
       "2     Reuters - Soaring crude prices plus worries\\ab...  Business  \n",
       "3     Reuters - Authorities have halted oil export\\f...  Business  \n",
       "4     AFP - Tearaway world oil prices, toppling reco...  Business  \n",
       "...                                                 ...       ...  \n",
       "7595  Ukrainian presidential candidate Viktor Yushch...     World  \n",
       "7596  With the supply of attractive pitching options...    Sports  \n",
       "7597  Like Roger Clemens did almost exactly eight ye...    Sports  \n",
       "7598  SINGAPORE : Doctors in the United States have ...  Business  \n",
       "7599  EBay plans to buy the apartment and home renta...  Business  \n",
       "\n",
       "[127600 rows x 4 columns]"
      ]
     },
     "execution_count": 3,
     "metadata": {},
     "output_type": "execute_result"
    }
   ],
   "source": [
    "data['Class Index'] = data['Class Index'].astype('str')\n",
    "classes = {\"1\" : \"World\",\n",
    "                     \"2\" : \"Sports\",\n",
    "                     \"3\" : \"Business\",\n",
    "                     \"4\" : \"Sci&Tech\"}\n",
    "\n",
    "data['Class'] = data['Class Index'].map(classes)\n",
    "data"
   ]
  },
  {
   "cell_type": "code",
   "execution_count": 4,
   "metadata": {},
   "outputs": [],
   "source": [
    "def text_preprocessing(text, flag_stemm=False, flag_lemma=True, lst_stopwords=None):\n",
    "    ## clean (convert to lowercase and remove punctuations and characters and then strip)\n",
    "    text = re.sub(r'[^\\w\\s]', '', str(text).lower().strip())\n",
    "    \n",
    "    #remove numbers from text\n",
    "    text = re.sub(\"\\d+\", \"\", text)\n",
    "            \n",
    "    ## Tokenize (convert from string to list)\n",
    "    lst_text = text.split()\n",
    "    ## remove Stopwords\n",
    "    if lst_stopwords is not None:\n",
    "        lst_text = [word for word in lst_text if word not in \n",
    "                    lst_stopwords]\n",
    "                \n",
    "    ## Stemming (remove -ing, -ly, ...)\n",
    "    if flag_stemm == True:\n",
    "        ps = nltk.stem.porter.PorterStemmer()\n",
    "        lst_text = [ps.stem(word) for word in lst_text]\n",
    "                \n",
    "    ## Lemmatisation (convert the word into root word)\n",
    "    if flag_lemma == True:\n",
    "        lem = nltk.stem.wordnet.WordNetLemmatizer()\n",
    "        lst_text = [lem.lemmatize(word) for word in lst_text]\n",
    "            \n",
    "    ## back to string from list\n",
    "    text = \" \".join(lst_text)\n",
    "    \n",
    "    return text\n",
    "\n",
    "lst_stopwords = nltk.corpus.stopwords.words(\"english\")"
   ]
  },
  {
   "cell_type": "code",
   "execution_count": 5,
   "metadata": {},
   "outputs": [
    {
     "data": {
      "text/html": [
       "<div>\n",
       "<style scoped>\n",
       "    .dataframe tbody tr th:only-of-type {\n",
       "        vertical-align: middle;\n",
       "    }\n",
       "\n",
       "    .dataframe tbody tr th {\n",
       "        vertical-align: top;\n",
       "    }\n",
       "\n",
       "    .dataframe thead th {\n",
       "        text-align: right;\n",
       "    }\n",
       "</style>\n",
       "<table border=\"1\" class=\"dataframe\">\n",
       "  <thead>\n",
       "    <tr style=\"text-align: right;\">\n",
       "      <th></th>\n",
       "      <th>Class Index</th>\n",
       "      <th>Title</th>\n",
       "      <th>Description</th>\n",
       "      <th>Class</th>\n",
       "      <th>cleaned_text</th>\n",
       "    </tr>\n",
       "  </thead>\n",
       "  <tbody>\n",
       "    <tr>\n",
       "      <th>0</th>\n",
       "      <td>3</td>\n",
       "      <td>Wall St. Bears Claw Back Into the Black (Reuters)</td>\n",
       "      <td>Reuters - Short-sellers, Wall Street's dwindli...</td>\n",
       "      <td>Business</td>\n",
       "      <td>reuters shortsellers wall street dwindlingband...</td>\n",
       "    </tr>\n",
       "    <tr>\n",
       "      <th>1</th>\n",
       "      <td>3</td>\n",
       "      <td>Carlyle Looks Toward Commercial Aerospace (Reu...</td>\n",
       "      <td>Reuters - Private investment firm Carlyle Grou...</td>\n",
       "      <td>Business</td>\n",
       "      <td>reuters private investment firm carlyle groupw...</td>\n",
       "    </tr>\n",
       "    <tr>\n",
       "      <th>2</th>\n",
       "      <td>3</td>\n",
       "      <td>Oil and Economy Cloud Stocks' Outlook (Reuters)</td>\n",
       "      <td>Reuters - Soaring crude prices plus worries\\ab...</td>\n",
       "      <td>Business</td>\n",
       "      <td>reuters soaring crude price plus worriesabout ...</td>\n",
       "    </tr>\n",
       "    <tr>\n",
       "      <th>3</th>\n",
       "      <td>3</td>\n",
       "      <td>Iraq Halts Oil Exports from Main Southern Pipe...</td>\n",
       "      <td>Reuters - Authorities have halted oil export\\f...</td>\n",
       "      <td>Business</td>\n",
       "      <td>reuters authority halted oil exportflows main ...</td>\n",
       "    </tr>\n",
       "    <tr>\n",
       "      <th>4</th>\n",
       "      <td>3</td>\n",
       "      <td>Oil prices soar to all-time record, posing new...</td>\n",
       "      <td>AFP - Tearaway world oil prices, toppling reco...</td>\n",
       "      <td>Business</td>\n",
       "      <td>afp tearaway world oil price toppling record s...</td>\n",
       "    </tr>\n",
       "  </tbody>\n",
       "</table>\n",
       "</div>"
      ],
      "text/plain": [
       "  Class Index                                              Title  \\\n",
       "0           3  Wall St. Bears Claw Back Into the Black (Reuters)   \n",
       "1           3  Carlyle Looks Toward Commercial Aerospace (Reu...   \n",
       "2           3    Oil and Economy Cloud Stocks' Outlook (Reuters)   \n",
       "3           3  Iraq Halts Oil Exports from Main Southern Pipe...   \n",
       "4           3  Oil prices soar to all-time record, posing new...   \n",
       "\n",
       "                                         Description     Class  \\\n",
       "0  Reuters - Short-sellers, Wall Street's dwindli...  Business   \n",
       "1  Reuters - Private investment firm Carlyle Grou...  Business   \n",
       "2  Reuters - Soaring crude prices plus worries\\ab...  Business   \n",
       "3  Reuters - Authorities have halted oil export\\f...  Business   \n",
       "4  AFP - Tearaway world oil prices, toppling reco...  Business   \n",
       "\n",
       "                                        cleaned_text  \n",
       "0  reuters shortsellers wall street dwindlingband...  \n",
       "1  reuters private investment firm carlyle groupw...  \n",
       "2  reuters soaring crude price plus worriesabout ...  \n",
       "3  reuters authority halted oil exportflows main ...  \n",
       "4  afp tearaway world oil price toppling record s...  "
      ]
     },
     "execution_count": 5,
     "metadata": {},
     "output_type": "execute_result"
    }
   ],
   "source": [
    "##applying the text preprocessing function created to the entire dataset\n",
    "data[\"cleaned_text\"] = data[\"Description\"].apply(lambda x: text_preprocessing(x, flag_stemm=False, flag_lemma=True, lst_stopwords=lst_stopwords))\n",
    "data.head()"
   ]
  },
  {
   "cell_type": "code",
   "execution_count": 6,
   "metadata": {},
   "outputs": [
    {
     "data": {
      "text/plain": [
       "World       5000\n",
       "Sci&Tech    5000\n",
       "Business    5000\n",
       "Sports      5000\n",
       "Name: Class, dtype: int64"
      ]
     },
     "execution_count": 6,
     "metadata": {},
     "output_type": "execute_result"
    }
   ],
   "source": [
    "data_sample = data.groupby('Class').apply(lambda x: x.sample(n=5000)).reset_index(drop = True)\n",
    "data_sample['Class'].value_counts()"
   ]
  },
  {
   "cell_type": "code",
   "execution_count": 7,
   "metadata": {},
   "outputs": [],
   "source": [
    "# Importing libraries\n",
    "import os\n",
    "import sys\n",
    "import numpy as np\n",
    "import tensorflow as tf\n",
    "import keras\n",
    "from keras.preprocessing.text import Tokenizer\n",
    "from tensorflow.keras.utils import to_categorical\n",
    "from keras.preprocessing.sequence import pad_sequences\n",
    "from keras.layers import Activation, Conv2D, Input, Embedding, Reshape, MaxPool2D, Concatenate, Flatten, Dropout, Dense, Conv1D\n",
    "from keras.layers import MaxPool1D\n",
    "from keras.models import Model\n",
    "from keras.callbacks import ModelCheckpoint\n",
    "from keras.callbacks import History \n",
    "history = History()\n",
    "from tensorflow.keras.optimizers import Adam"
   ]
  },
  {
   "cell_type": "code",
   "execution_count": 8,
   "metadata": {},
   "outputs": [],
   "source": [
    "# make the max word length to be constant\n",
    "MAX_WORDS = 10000\n",
    "MAX_SEQUENCE_LENGTH = 1000\n",
    "# the percentage of train test split to be applied\n",
    "VALIDATION_SPLIT = 0.20\n",
    "# the dimension of vectors to be used\n",
    "EMBEDDING_DIM = 300\n",
    "# dropout probability\n",
    "drop = 0.5\n",
    "batch_size = 100\n",
    "epochs = 10"
   ]
  },
  {
   "cell_type": "code",
   "execution_count": 9,
   "metadata": {},
   "outputs": [
    {
     "name": "stdout",
     "output_type": "stream",
     "text": [
      "unique words : 32397\n",
      "Shape of data tensor: (20000, 1000)\n",
      "Shape of label tensor: (20000, 5)\n",
      "[[0. 0. 0. 1. 0.]\n",
      " [0. 0. 0. 1. 0.]\n",
      " [0. 0. 0. 1. 0.]\n",
      " ...\n",
      " [0. 1. 0. 0. 0.]\n",
      " [0. 1. 0. 0. 0.]\n",
      " [0. 1. 0. 0. 0.]]\n"
     ]
    }
   ],
   "source": [
    "texts = data_sample['cleaned_text']\n",
    "labels = data_sample.iloc[:, 0].astype(str)\n",
    "tokenizer  = Tokenizer(num_words = MAX_WORDS)\n",
    "tokenizer.fit_on_texts(texts)\n",
    "sequences =  tokenizer.texts_to_sequences(texts)\n",
    "\n",
    "word_index = tokenizer.word_index\n",
    "print(\"unique words : {}\".format(len(word_index)))\n",
    "\n",
    "data = pad_sequences(sequences, maxlen=MAX_SEQUENCE_LENGTH)\n",
    "\n",
    "labels = to_categorical(np.asarray(labels))\n",
    "print('Shape of data tensor:', data.shape)\n",
    "print('Shape of label tensor:', labels.shape)\n",
    "print(labels)"
   ]
  },
  {
   "cell_type": "code",
   "execution_count": 10,
   "metadata": {},
   "outputs": [],
   "source": [
    "# split the data into a training set and a validation set\n",
    "indices = np.arange(data.shape[0])\n",
    "np.random.shuffle(indices)\n",
    "data = data[indices]\n",
    "labels = labels[indices]\n",
    "nb_validation_samples = int(VALIDATION_SPLIT * data.shape[0])\n",
    "\n",
    "x_train = data[:-nb_validation_samples]\n",
    "y_train = labels[:-nb_validation_samples]\n",
    "x_val = data[-nb_validation_samples:]\n",
    "y_val = labels[-nb_validation_samples:]"
   ]
  },
  {
   "cell_type": "code",
   "execution_count": 11,
   "metadata": {},
   "outputs": [],
   "source": [
    "import gensim\n",
    "from gensim.models import Word2Vec\n",
    "from gensim.utils import simple_preprocess\n",
    "\n",
    "from gensim.models.keyedvectors import KeyedVectors\n",
    "PATH = 'C:/Users/karth/Desktop/Dissertation/Code'\n",
    "word_vectors = KeyedVectors.load_word2vec_format(PATH+'/GoogleNews-vectors-negative300.bin', binary=True)\n",
    "\n",
    "EMBEDDING_DIM=300\n",
    "        \n",
    "embedding_matrix = np.zeros((len(word_index) + 1, EMBEDDING_DIM))\n",
    "for word, i in word_index.items():\n",
    "    try:\n",
    "        embedding_vector = word_vectors[word]\n",
    "    except KeyError:\n",
    "        embedding_vector = 0\n",
    "        \n",
    "    if embedding_vector is not None:\n",
    "        # words not found in embedding index will be all-zeros.\n",
    "        embedding_matrix[i] = embedding_vector"
   ]
  },
  {
   "cell_type": "code",
   "execution_count": 12,
   "metadata": {},
   "outputs": [],
   "source": [
    "from keras.layers import Embedding\n",
    "embedding_layer = Embedding(len(word_index) + 1,\n",
    "                            EMBEDDING_DIM,\n",
    "                            weights=[embedding_matrix],\n",
    "                            input_length=MAX_SEQUENCE_LENGTH,\n",
    "                            trainable=False)"
   ]
  },
  {
   "cell_type": "code",
   "execution_count": 14,
   "metadata": {},
   "outputs": [],
   "source": [
    "model = tf.keras.Sequential([\n",
    "    tf.keras.layers.Embedding(len(word_index) + 1,\n",
    "                            EMBEDDING_DIM,\n",
    "                            weights=[embedding_matrix],\n",
    "                            input_length=MAX_SEQUENCE_LENGTH,\n",
    "                            trainable=False),\n",
    "    tf.keras.layers.Bidirectional(tf.keras.layers.LSTM(64,  return_sequences=True)),\n",
    "    tf.keras.layers.Bidirectional(tf.keras.layers.LSTM(32)),\n",
    "    tf.keras.layers.Dense(64, activation='relu'),\n",
    "    tf.keras.layers.Dropout(0.5),\n",
    "    tf.keras.layers.Dense(5)\n",
    "])"
   ]
  },
  {
   "cell_type": "code",
   "execution_count": 15,
   "metadata": {},
   "outputs": [
    {
     "name": "stdout",
     "output_type": "stream",
     "text": [
      "Model: \"sequential_1\"\n",
      "_________________________________________________________________\n",
      " Layer (type)                Output Shape              Param #   \n",
      "=================================================================\n",
      " embedding_2 (Embedding)     (None, 1000, 300)         9719400   \n",
      "                                                                 \n",
      " bidirectional_2 (Bidirectio  (None, 1000, 128)        186880    \n",
      " nal)                                                            \n",
      "                                                                 \n",
      " bidirectional_3 (Bidirectio  (None, 64)               41216     \n",
      " nal)                                                            \n",
      "                                                                 \n",
      " dense_2 (Dense)             (None, 64)                4160      \n",
      "                                                                 \n",
      " dropout_1 (Dropout)         (None, 64)                0         \n",
      "                                                                 \n",
      " dense_3 (Dense)             (None, 5)                 325       \n",
      "                                                                 \n",
      "=================================================================\n",
      "Total params: 9,951,981\n",
      "Trainable params: 232,581\n",
      "Non-trainable params: 9,719,400\n",
      "_________________________________________________________________\n"
     ]
    }
   ],
   "source": [
    "checkpoint = ModelCheckpoint('weights_RNN_sentece.hdf5', monitor='val_acc', verbose=1, save_best_only=True, mode='auto')\n",
    "model.compile(loss=tf.keras.losses.CategoricalCrossentropy(from_logits=True),\n",
    "              optimizer=tf.keras.optimizers.Adam(1e-4),\n",
    "              metrics=['accuracy'])\n",
    "model.summary()"
   ]
  },
  {
   "cell_type": "code",
   "execution_count": 16,
   "metadata": {},
   "outputs": [
    {
     "name": "stdout",
     "output_type": "stream",
     "text": [
      "RNN model Traning with Word2Vec embedding...\n",
      "Epoch 1/10\n",
      "500/500 [==============================] - ETA: 0s - loss: 0.9328 - accuracy: 0.6592WARNING:tensorflow:Can save best model only with val_acc available, skipping.\n",
      "500/500 [==============================] - 2133s 4s/step - loss: 0.9328 - accuracy: 0.6592 - val_loss: 0.5011 - val_accuracy: 0.8350\n",
      "Epoch 2/10\n",
      "500/500 [==============================] - ETA: 0s - loss: 0.5075 - accuracy: 0.8441WARNING:tensorflow:Can save best model only with val_acc available, skipping.\n",
      "500/500 [==============================] - 2129s 4s/step - loss: 0.5075 - accuracy: 0.8441 - val_loss: 0.4130 - val_accuracy: 0.8587\n",
      "Epoch 3/10\n",
      "500/500 [==============================] - ETA: 0s - loss: 0.4449 - accuracy: 0.8611WARNING:tensorflow:Can save best model only with val_acc available, skipping.\n",
      "500/500 [==============================] - 2221s 4s/step - loss: 0.4449 - accuracy: 0.8611 - val_loss: 0.4101 - val_accuracy: 0.8590\n",
      "Epoch 4/10\n",
      "500/500 [==============================] - ETA: 0s - loss: 0.4149 - accuracy: 0.8694WARNING:tensorflow:Can save best model only with val_acc available, skipping.\n",
      "500/500 [==============================] - 2280s 5s/step - loss: 0.4149 - accuracy: 0.8694 - val_loss: 0.3782 - val_accuracy: 0.8690\n",
      "Epoch 5/10\n",
      "500/500 [==============================] - ETA: 0s - loss: 0.3912 - accuracy: 0.8780WARNING:tensorflow:Can save best model only with val_acc available, skipping.\n",
      "500/500 [==============================] - 2224s 4s/step - loss: 0.3912 - accuracy: 0.8780 - val_loss: 0.3719 - val_accuracy: 0.8700\n",
      "Epoch 6/10\n",
      "500/500 [==============================] - ETA: 0s - loss: 0.3746 - accuracy: 0.8834WARNING:tensorflow:Can save best model only with val_acc available, skipping.\n",
      "500/500 [==============================] - 2391s 5s/step - loss: 0.3746 - accuracy: 0.8834 - val_loss: 0.3723 - val_accuracy: 0.8700\n",
      "Epoch 7/10\n",
      "500/500 [==============================] - ETA: 0s - loss: 0.3592 - accuracy: 0.8865WARNING:tensorflow:Can save best model only with val_acc available, skipping.\n",
      "500/500 [==============================] - 2550s 5s/step - loss: 0.3592 - accuracy: 0.8865 - val_loss: 0.3770 - val_accuracy: 0.8705\n",
      "Epoch 8/10\n",
      "500/500 [==============================] - ETA: 0s - loss: 0.3514 - accuracy: 0.8891WARNING:tensorflow:Can save best model only with val_acc available, skipping.\n",
      "500/500 [==============================] - 2437s 5s/step - loss: 0.3514 - accuracy: 0.8891 - val_loss: 0.3686 - val_accuracy: 0.8735\n",
      "Epoch 9/10\n",
      "500/500 [==============================] - ETA: 0s - loss: 0.3343 - accuracy: 0.8929WARNING:tensorflow:Can save best model only with val_acc available, skipping.\n",
      "500/500 [==============================] - 2312s 5s/step - loss: 0.3343 - accuracy: 0.8929 - val_loss: 0.3716 - val_accuracy: 0.8710\n",
      "Epoch 10/10\n",
      "500/500 [==============================] - ETA: 0s - loss: 0.3273 - accuracy: 0.8951WARNING:tensorflow:Can save best model only with val_acc available, skipping.\n",
      "500/500 [==============================] - 2336s 5s/step - loss: 0.3273 - accuracy: 0.8951 - val_loss: 0.3685 - val_accuracy: 0.8692\n"
     ]
    }
   ],
   "source": [
    "print(\"RNN model Traning with Word2Vec embedding...\")\n",
    "history = model.fit(x_train, y_train, epochs=10,validation_data=(x_val, y_val),callbacks=[checkpoint])"
   ]
  },
  {
   "cell_type": "code",
   "execution_count": 48,
   "metadata": {},
   "outputs": [
    {
     "name": "stdout",
     "output_type": "stream",
     "text": [
      "3/3 [==============================] - 9s 3s/step - loss: 0.5873 - accuracy: 0.7750\n",
      "Test Loss: 0.5872714519500732\n",
      "Test Accuracy: 0.7749999761581421\n"
     ]
    }
   ],
   "source": [
    "test_loss, test_acc = model.evaluate(x_val, y_val)\n",
    "\n",
    "print('Test Loss:', test_loss)\n",
    "print('Test Accuracy:', test_acc)"
   ]
  },
  {
   "cell_type": "code",
   "execution_count": 51,
   "metadata": {},
   "outputs": [
    {
     "data": {
      "image/png": "[encoded data removed]",
      "text/plain": [
       "<Figure size 720x432 with 2 Axes>"
      ]
     },
     "metadata": {
      "needs_background": "light"
     },
     "output_type": "display_data"
    }
   ],
   "source": [
    "loss_train = history.history['loss']\n",
    "loss_val = history.history['val_loss']\n",
    "acc_train = history.history['accuracy']\n",
    "acc_val = history.history['val_accuracy']\n",
    "epochs = []\n",
    "for x in range(1,11):\n",
    "    epochs.append(x)\n",
    "    \n",
    "fig, (axes1, axes2) = plt.subplots(nrows=1, ncols=2, figsize=(10, 6))\n",
    "axes1.plot(epochs, loss_train, 'g', label='Training loss')\n",
    "axes1.plot(epochs, loss_val, 'b', label='validation loss')\n",
    "axes1.title.set_text('Training and Validation loss')\n",
    "axes1.set_xlabel('Epochs')\n",
    "axes1.set_ylabel('Loss')\n",
    "axes1.legend()\n",
    "\n",
    "axes2.plot(epochs, acc_train, 'g', label='Training accuracy')\n",
    "axes2.plot(epochs, acc_val, 'b', label='validation accuracy')\n",
    "axes2.title.set_text('Training and Validation accuracy')\n",
    "axes2.set_xlabel('Epochs')\n",
    "axes2.set_ylabel('Accuracy')\n",
    "axes2.legend()\n",
    "fig.tight_layout()"
   ]
  },
  {
   "cell_type": "code",
   "execution_count": 17,
   "metadata": {},
   "outputs": [
    {
     "name": "stdout",
     "output_type": "stream",
     "text": [
      "              precision    recall  f1-score   support\n",
      "\n",
      "    Business       0.91      0.85      0.88      1013\n",
      "     Sci&Tec       0.93      0.93      0.93       985\n",
      "      Sports       0.84      0.82      0.83      1001\n",
      "       World       0.80      0.88      0.84      1001\n",
      "\n",
      "    accuracy                           0.87      4000\n",
      "   macro avg       0.87      0.87      0.87      4000\n",
      "weighted avg       0.87      0.87      0.87      4000\n",
      "\n"
     ]
    },
    {
     "data": {
      "image/png": "[encoded data removed]",
      "text/plain": [
       "<Figure size 432x288 with 2 Axes>"
      ]
     },
     "metadata": {
      "needs_background": "light"
     },
     "output_type": "display_data"
    }
   ],
   "source": [
    "import sklearn.metrics as metrics\n",
    "from sklearn.metrics import classification_report\n",
    "import seaborn as sns\n",
    "import matplotlib.pyplot as plt   \n",
    "y_pred_ohe = model.predict(x_val)  # shape=(n_samples, 12)\n",
    "y_pred_labels = np.argmax(y_pred_ohe, axis=1)  # only necessary if output has one-hot-encoding, shape=(n_samples)\n",
    "y_labels = np.argmax(y_val, axis=1)\n",
    "target_names = [\"Business\",\"Sci&Tec\",\"Sports\",\"World\"]\n",
    "confusion_matrix = metrics.confusion_matrix(y_true=y_labels, y_pred=y_pred_labels)  # shape=(12, 12)\n",
    "\n",
    "ax= plt.subplot()\n",
    "sns.heatmap(confusion_matrix, annot=True, fmt=\"d\",cmap='Blues',ax=ax); #annot=True to annotate cells\n",
    "\n",
    "# labels, title and ticks\n",
    "ax.set_xlabel('Predicted labels');ax.set_ylabel('True labels'); \n",
    "ax.set_title('Confusion Matrix'); \n",
    "ax.xaxis.set_ticklabels(target_names); ax.yaxis.set_ticklabels(target_names);\n",
    "\n",
    "print(classification_report(y_labels, y_pred_labels, target_names=target_names))"
   ]
  },
  {
   "cell_type": "code",
   "execution_count": 18,
   "metadata": {},
   "outputs": [],
   "source": [
    "# make the max word length to be constant\n",
    "MAX_WORDS = 10000\n",
    "MAX_SEQUENCE_LENGTH = 1000\n",
    "# the percentage of train test split to be applied\n",
    "VALIDATION_SPLIT = 0.20\n",
    "# the dimension of vectors to be used\n",
    "EMBEDDING_DIM = 300\n",
    "# dropout probability\n",
    "drop = 0.5\n",
    "batch_size = 100\n",
    "epochs = 10"
   ]
  },
  {
   "cell_type": "code",
   "execution_count": 19,
   "metadata": {},
   "outputs": [
    {
     "name": "stdout",
     "output_type": "stream",
     "text": [
      "unique words : 32397\n",
      "Shape of data tensor: (20000, 1000)\n",
      "Shape of label tensor: (20000, 5)\n",
      "[[0. 0. 0. 1. 0.]\n",
      " [0. 0. 0. 1. 0.]\n",
      " [0. 0. 0. 1. 0.]\n",
      " ...\n",
      " [0. 1. 0. 0. 0.]\n",
      " [0. 1. 0. 0. 0.]\n",
      " [0. 1. 0. 0. 0.]]\n"
     ]
    }
   ],
   "source": [
    "texts = data_sample['cleaned_text']\n",
    "labels = data_sample.iloc[:, 0].astype(str)\n",
    "tokenizer  = Tokenizer(num_words = MAX_WORDS)\n",
    "tokenizer.fit_on_texts(texts)\n",
    "sequences =  tokenizer.texts_to_sequences(texts)\n",
    "\n",
    "word_index = tokenizer.word_index\n",
    "print(\"unique words : {}\".format(len(word_index)))\n",
    "\n",
    "data = pad_sequences(sequences, maxlen=MAX_SEQUENCE_LENGTH)\n",
    "\n",
    "labels = to_categorical(np.asarray(labels))\n",
    "print('Shape of data tensor:', data.shape)\n",
    "print('Shape of label tensor:', labels.shape)\n",
    "print(labels)"
   ]
  },
  {
   "cell_type": "code",
   "execution_count": 20,
   "metadata": {},
   "outputs": [],
   "source": [
    "# split the data into a training set and a validation set\n",
    "indices = np.arange(data.shape[0])\n",
    "np.random.shuffle(indices)\n",
    "data = data[indices]\n",
    "labels = labels[indices]\n",
    "nb_validation_samples = int(VALIDATION_SPLIT * data.shape[0])\n",
    "\n",
    "x_train = data[:-nb_validation_samples]\n",
    "y_train = labels[:-nb_validation_samples]\n",
    "x_val = data[-nb_validation_samples:]\n",
    "y_val = labels[-nb_validation_samples:]"
   ]
  },
  {
   "cell_type": "code",
   "execution_count": 21,
   "metadata": {},
   "outputs": [
    {
     "name": "stdout",
     "output_type": "stream",
     "text": [
      "Found 400000 word vectors.\n"
     ]
    }
   ],
   "source": [
    "GLOVE_DIR = 'C:/Users/karth/Desktop/Dissertation/Code/'\n",
    "embeddings_index = {}\n",
    "f = open(os.path.join(GLOVE_DIR, 'glove.6B.100d.txt'),encoding=\"utf8\")\n",
    "for line in f:\n",
    "    values = line.split()\n",
    "    word = values[0]\n",
    "    coefs = np.asarray(values[1:], dtype='float32')\n",
    "    embeddings_index[word] = coefs\n",
    "f.close()\n",
    "\n",
    "print('Found %s word vectors.' % len(embeddings_index))"
   ]
  },
  {
   "cell_type": "code",
   "execution_count": 22,
   "metadata": {},
   "outputs": [],
   "source": [
    "from keras.layers import Embedding\n",
    "embedding_layer = Embedding(len(word_index) + 1,\n",
    "                            EMBEDDING_DIM,\n",
    "                            weights=[embedding_matrix],\n",
    "                            input_length=MAX_SEQUENCE_LENGTH,\n",
    "                            trainable=False)"
   ]
  },
  {
   "cell_type": "code",
   "execution_count": 23,
   "metadata": {},
   "outputs": [],
   "source": [
    "model1 = tf.keras.Sequential([\n",
    "    tf.keras.layers.Embedding(len(word_index) + 1,\n",
    "                            EMBEDDING_DIM,\n",
    "                            weights=[embedding_matrix],\n",
    "                            input_length=MAX_SEQUENCE_LENGTH,\n",
    "                            trainable=False),\n",
    "    tf.keras.layers.Bidirectional(tf.keras.layers.LSTM(64,  return_sequences=True)),\n",
    "    tf.keras.layers.Bidirectional(tf.keras.layers.LSTM(32)),\n",
    "    tf.keras.layers.Dense(64, activation='relu'),\n",
    "    tf.keras.layers.Dropout(0.5),\n",
    "    tf.keras.layers.Dense(5)\n",
    "])"
   ]
  },
  {
   "cell_type": "code",
   "execution_count": 24,
   "metadata": {},
   "outputs": [
    {
     "name": "stdout",
     "output_type": "stream",
     "text": [
      "Model: \"sequential_2\"\n",
      "_________________________________________________________________\n",
      " Layer (type)                Output Shape              Param #   \n",
      "=================================================================\n",
      " embedding_4 (Embedding)     (None, 1000, 300)         9719400   \n",
      "                                                                 \n",
      " bidirectional_4 (Bidirectio  (None, 1000, 128)        186880    \n",
      " nal)                                                            \n",
      "                                                                 \n",
      " bidirectional_5 (Bidirectio  (None, 64)               41216     \n",
      " nal)                                                            \n",
      "                                                                 \n",
      " dense_4 (Dense)             (None, 64)                4160      \n",
      "                                                                 \n",
      " dropout_2 (Dropout)         (None, 64)                0         \n",
      "                                                                 \n",
      " dense_5 (Dense)             (None, 5)                 325       \n",
      "                                                                 \n",
      "=================================================================\n",
      "Total params: 9,951,981\n",
      "Trainable params: 232,581\n",
      "Non-trainable params: 9,719,400\n",
      "_________________________________________________________________\n"
     ]
    }
   ],
   "source": [
    "checkpoint = ModelCheckpoint('weights_RNN_sentece.hdf5', monitor='val_acc', verbose=1, save_best_only=True, mode='auto')\n",
    "model1.compile(loss=tf.keras.losses.CategoricalCrossentropy(from_logits=True),\n",
    "              optimizer=tf.keras.optimizers.Adam(1e-4),\n",
    "              metrics=['accuracy'])\n",
    "model1.summary()"
   ]
  },
  {
   "cell_type": "code",
   "execution_count": 25,
   "metadata": {},
   "outputs": [
    {
     "name": "stdout",
     "output_type": "stream",
     "text": [
      "RNN model Traning with GloVe embedding...\n",
      "Epoch 1/10\n",
      "500/500 [==============================] - ETA: 0s - loss: 0.8937 - accuracy: 0.6820WARNING:tensorflow:Can save best model only with val_acc available, skipping.\n",
      "500/500 [==============================] - 2879s 6s/step - loss: 0.8937 - accuracy: 0.6820 - val_loss: 0.4554 - val_accuracy: 0.8482\n",
      "Epoch 2/10\n",
      "500/500 [==============================] - ETA: 0s - loss: 0.4937 - accuracy: 0.8496WARNING:tensorflow:Can save best model only with val_acc available, skipping.\n",
      "500/500 [==============================] - 3026s 6s/step - loss: 0.4937 - accuracy: 0.8496 - val_loss: 0.4134 - val_accuracy: 0.8615\n",
      "Epoch 3/10\n",
      "500/500 [==============================] - ETA: 0s - loss: 0.4426 - accuracy: 0.8635WARNING:tensorflow:Can save best model only with val_acc available, skipping.\n",
      "500/500 [==============================] - 3142s 6s/step - loss: 0.4426 - accuracy: 0.8635 - val_loss: 0.3826 - val_accuracy: 0.8720\n",
      "Epoch 4/10\n",
      "500/500 [==============================] - ETA: 0s - loss: 0.4095 - accuracy: 0.8733WARNING:tensorflow:Can save best model only with val_acc available, skipping.\n",
      "500/500 [==============================] - 3219s 6s/step - loss: 0.4095 - accuracy: 0.8733 - val_loss: 0.3749 - val_accuracy: 0.8767\n",
      "Epoch 5/10\n",
      "500/500 [==============================] - ETA: 0s - loss: 0.3879 - accuracy: 0.8774WARNING:tensorflow:Can save best model only with val_acc available, skipping.\n",
      "500/500 [==============================] - 3201s 6s/step - loss: 0.3879 - accuracy: 0.8774 - val_loss: 0.3660 - val_accuracy: 0.8783\n",
      "Epoch 6/10\n",
      "500/500 [==============================] - ETA: 0s - loss: 0.3760 - accuracy: 0.8817WARNING:tensorflow:Can save best model only with val_acc available, skipping.\n",
      "500/500 [==============================] - 3312s 7s/step - loss: 0.3760 - accuracy: 0.8817 - val_loss: 0.3645 - val_accuracy: 0.8755\n",
      "Epoch 7/10\n",
      "500/500 [==============================] - ETA: 0s - loss: 0.3642 - accuracy: 0.8864WARNING:tensorflow:Can save best model only with val_acc available, skipping.\n",
      "500/500 [==============================] - 3374s 7s/step - loss: 0.3642 - accuracy: 0.8864 - val_loss: 0.3654 - val_accuracy: 0.8723\n",
      "Epoch 8/10\n",
      "500/500 [==============================] - ETA: 0s - loss: 0.3519 - accuracy: 0.8873WARNING:tensorflow:Can save best model only with val_acc available, skipping.\n",
      "500/500 [==============================] - 3360s 7s/step - loss: 0.3519 - accuracy: 0.8873 - val_loss: 0.3623 - val_accuracy: 0.8765\n",
      "Epoch 9/10\n",
      "500/500 [==============================] - ETA: 0s - loss: 0.3457 - accuracy: 0.8913WARNING:tensorflow:Can save best model only with val_acc available, skipping.\n",
      "500/500 [==============================] - 3340s 7s/step - loss: 0.3457 - accuracy: 0.8913 - val_loss: 0.3565 - val_accuracy: 0.8808\n",
      "Epoch 10/10\n",
      "500/500 [==============================] - ETA: 0s - loss: 0.3359 - accuracy: 0.8931WARNING:tensorflow:Can save best model only with val_acc available, skipping.\n",
      "500/500 [==============================] - 3508s 7s/step - loss: 0.3359 - accuracy: 0.8931 - val_loss: 0.3566 - val_accuracy: 0.8813\n"
     ]
    }
   ],
   "source": [
    "print(\"RNN model Traning with GloVe embedding...\")\n",
    "hist = model1.fit(x_train, y_train, epochs=10,validation_data=(x_val, y_val),callbacks=[checkpoint])"
   ]
  },
  {
   "cell_type": "code",
   "execution_count": 26,
   "metadata": {},
   "outputs": [
    {
     "name": "stdout",
     "output_type": "stream",
     "text": [
      "125/125 [==============================] - 402s 3s/step - loss: 0.3566 - accuracy: 0.8813\n",
      "Test Loss: 0.3566293716430664\n",
      "Test Accuracy: 0.8812500238418579\n"
     ]
    }
   ],
   "source": [
    "test_loss, test_acc = model1.evaluate(x_val, y_val)\n",
    "\n",
    "print('Test Loss:', test_loss)\n",
    "print('Test Accuracy:', test_acc)"
   ]
  },
  {
   "cell_type": "code",
   "execution_count": 27,
   "metadata": {},
   "outputs": [
    {
     "data": {
      "image/png": "[encoded data removed]",
      "text/plain": [
       "<Figure size 720x432 with 2 Axes>"
      ]
     },
     "metadata": {
      "needs_background": "light"
     },
     "output_type": "display_data"
    }
   ],
   "source": [
    "loss_train = hist.history['loss']\n",
    "loss_val = hist.history['val_loss']\n",
    "acc_train = hist.history['accuracy']\n",
    "acc_val = hist.history['val_accuracy']\n",
    "epochs = []\n",
    "for x in range(1,11):\n",
    "    epochs.append(x)\n",
    "    \n",
    "fig, (axes1, axes2) = plt.subplots(nrows=1, ncols=2, figsize=(10, 6))\n",
    "axes1.plot(epochs, loss_train, 'g', label='Training loss')\n",
    "axes1.plot(epochs, loss_val, 'b', label='validation loss')\n",
    "axes1.title.set_text('Training and Validation loss')\n",
    "axes1.set_xlabel('Epochs')\n",
    "axes1.set_ylabel('Loss')\n",
    "axes1.legend()\n",
    "\n",
    "axes2.plot(epochs, acc_train, 'g', label='Training accuracy')\n",
    "axes2.plot(epochs, acc_val, 'b', label='validation accuracy')\n",
    "axes2.title.set_text('Training and Validation accuracy')\n",
    "axes2.set_xlabel('Epochs')\n",
    "axes2.set_ylabel('Accuracy')\n",
    "axes2.legend()\n",
    "fig.tight_layout()"
   ]
  },
  {
   "cell_type": "code",
   "execution_count": 28,
   "metadata": {},
   "outputs": [
    {
     "name": "stdout",
     "output_type": "stream",
     "text": [
      "              precision    recall  f1-score   support\n",
      "\n",
      "    Business       0.94      0.88      0.91      1015\n",
      "     Sci&Tec       0.97      0.96      0.96       993\n",
      "      Sports       0.87      0.84      0.86       988\n",
      "       World       0.82      0.91      0.86      1004\n",
      "\n",
      "    accuracy                           0.90      4000\n",
      "   macro avg       0.90      0.90      0.90      4000\n",
      "weighted avg       0.90      0.90      0.90      4000\n",
      "\n"
     ]
    },
    {
     "data": {
      "image/png": "[encoded data removed]",
      "text/plain": [
       "<Figure size 432x288 with 2 Axes>"
      ]
     },
     "metadata": {
      "needs_background": "light"
     },
     "output_type": "display_data"
    }
   ],
   "source": [
    "import sklearn.metrics as metrics\n",
    "from sklearn.metrics import classification_report\n",
    "import seaborn as sns\n",
    "import matplotlib.pyplot as plt   \n",
    "y_pred_ohe = model.predict(x_val)  # shape=(n_samples, 12)\n",
    "y_pred_labels = np.argmax(y_pred_ohe, axis=1)  # only necessary if output has one-hot-encoding, shape=(n_samples)\n",
    "y_labels = np.argmax(y_val, axis=1)\n",
    "target_names = [\"Business\",\"Sci&Tec\",\"Sports\",\"World\"]\n",
    "confusion_matrix = metrics.confusion_matrix(y_true=y_labels, y_pred=y_pred_labels)  # shape=(12, 12)\n",
    "\n",
    "ax= plt.subplot()\n",
    "sns.heatmap(confusion_matrix, annot=True, fmt=\"d\",cmap='Blues',ax=ax); #annot=True to annotate cells\n",
    "\n",
    "# labels, title and ticks\n",
    "ax.set_xlabel('Predicted labels');ax.set_ylabel('True labels'); \n",
    "ax.set_title('Confusion Matrix'); \n",
    "ax.xaxis.set_ticklabels(target_names); ax.yaxis.set_ticklabels(target_names);\n",
    "\n",
    "print(classification_report(y_labels, y_pred_labels, target_names=target_names))"
   ]
  }
 ],
 "metadata": {
  "kernelspec": {
   "display_name": "nlp",
   "language": "python",
   "name": "nlp"
  },
  "language_info": {
   "codemirror_mode": {
    "name": "ipython",
    "version": 3
   },
   "file_extension": ".py",
   "mimetype": "text/x-python",
   "name": "python",
   "nbconvert_exporter": "python",
   "pygments_lexer": "ipython3",
   "version": "3.8.5"
  }
 },
 "nbformat": 4,
 "nbformat_minor": 4
}
